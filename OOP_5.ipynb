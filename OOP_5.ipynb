{
  "nbformat": 4,
  "nbformat_minor": 0,
  "metadata": {
    "colab": {
      "provenance": [],
      "authorship_tag": "ABX9TyO5k3xhSw9GfIq15SFlalg/",
      "include_colab_link": true
    },
    "kernelspec": {
      "name": "python3",
      "display_name": "Python 3"
    },
    "language_info": {
      "name": "python"
    }
  },
  "cells": [
    {
      "cell_type": "markdown",
      "metadata": {
        "id": "view-in-github",
        "colab_type": "text"
      },
      "source": [
        "<a href=\"https://colab.research.google.com/github/Tigran588/OOP/blob/main/OOP_5.ipynb\" target=\"_parent\"><img src=\"https://colab.research.google.com/assets/colab-badge.svg\" alt=\"Open In Colab\"/></a>"
      ]
    },
    {
      "cell_type": "code",
      "execution_count": null,
      "metadata": {
        "colab": {
          "base_uri": "https://localhost:8080/"
        },
        "id": "NBU7TpQ1lPyz",
        "outputId": "2b576df3-2c89-465a-de42-6ab18d2e72b2"
      },
      "outputs": [
        {
          "output_type": "execute_result",
          "data": {
            "text/plain": [
              "0.5"
            ]
          },
          "metadata": {},
          "execution_count": 51
        }
      ],
      "source": [
        "##5#####\n",
        "\n",
        "from abc import ABC,abstractmethod\n",
        "\n",
        "class Assignments(ABC):\n",
        "  pass\n",
        "\n",
        "class Lectur(Assignments):\n",
        "  def __init__(self):\n",
        "    self.books = []\n",
        "\n",
        "  def add_book(self,*book):\n",
        "    for item in book:\n",
        "      self.books.append(item)\n",
        "\n",
        "class Practice(Assignments):\n",
        "  def __init__(self):\n",
        "    self.books = []\n",
        "\n",
        "  def add_book(self,*book):\n",
        "    for item in book:\n",
        "      self.books.append(item)\n",
        "\n",
        "class Course:\n",
        "  def __init__(self,name:str,instructor:str,content:str):\n",
        "    self.name = name\n",
        "    self.content = content\n",
        "    self.instructor = instructor\n",
        "    self.students = []\n",
        "    self.assignments = []\n",
        "\n",
        "  def add_student(self,student):\n",
        "    self.students.append(student)\n",
        "\n",
        "  def get_info(self):\n",
        "    return f'course {self.name}, instructor {self.instructor}'\n",
        "\n",
        "class Students:\n",
        "  def __init__(self,name,contact_info):\n",
        "    self.name = name\n",
        "    self.contact_info = contact_info\n",
        "    self._cources = []\n",
        "    self.assignments = []\n",
        "    self.all_assignments = 0\n",
        "    self.done_assignments = 0\n",
        "\n",
        "  def add_cources(self,course:Course):\n",
        "    self._cources.append(course)\n",
        "    course.add_student(self)\n",
        "\n",
        "  def add_asingmnet (self,*assignment:Assignments):\n",
        "    for i in assignment:\n",
        "      self.assignments.append(i)\n",
        "      self.all_assignments += 1\n",
        "\n",
        "\n",
        "  def complete_assignment(self,assignment:Assignments):\n",
        "    if assignment in  self.assignments:\n",
        "      self.done_assignments += 1\n",
        "\n",
        "  def porgress(self):\n",
        "    return self.done_assignments / self.all_assignments\n",
        "\n",
        "\n",
        "class Professor:\n",
        "  def __init__(self,name,contact_info):\n",
        "    self.name =name\n",
        "    self.contact_info = contact_info\n",
        "    self.course = []\n",
        "\n",
        "  def make_course(self,name,instructor,content):\n",
        "    return Course(name,instructor,content)\n",
        "\n",
        "c1 = Course('programming','vardan','cp_3')\n",
        "c2 = Course('arcitecture','john','cp_4')\n",
        "\n",
        "as1 = Lectur()\n",
        "as2 = Practice()\n",
        "\n",
        "s1 = Students('Tigran','hamar')\n",
        "\n",
        "\n",
        "s1.add_cources(c1)\n",
        "s1.add_cources(c2)\n",
        "s1.add_asingmnet(as1,as2)\n",
        "s1.complete_assignment(as1)\n",
        "\n",
        "s1.porgress()\n",
        "\n",
        "p1 = Professor('Simonyan','hamar')\n",
        "p1.make_course('HAPH','simonyan','HMKT')\n",
        "\n"
      ]
    },
    {
      "cell_type": "code",
      "source": [
        "#6\n",
        "class Medical_Op(ABC):\n",
        "\n",
        "  @abstractmethod\n",
        "  def perform_op():\n",
        "    pass\n",
        "\n",
        "class surgerries(Medical_Op):\n",
        "  def __init__():\n",
        "    pass\n",
        "  def perform_op():\n",
        "    return 'operation'\n",
        "\n",
        "class Check_up(Medical_Op):\n",
        "  def perform_op():\n",
        "    return ('Check_up')\n",
        "\n",
        "surg = surgerries()\n",
        "print(surg.perform_op())\n",
        "\n",
        "class Patients:\n",
        "  def __init__(self,name,age,med_history):\n",
        "    self.name = name\n",
        "    self.age =age\n",
        "    self.med_history = med_history\n",
        "\n",
        "  def get_info(self):\n",
        "    return f\"name {self.name}, age:{self.age}, medical_history:{self.med_history}\"\n",
        "\n",
        "class Doctors:\n",
        "  def __init__(self,name,contact):\n",
        "    self.name = name\n",
        "    self.contact = contact\n",
        "    self.appointment = {}\n",
        "\n",
        "  def manage_pat(self,patient:Patients,medical_history):\n",
        "    patient.med_history = medical_history\n",
        "\n",
        "  def add_ppointmnets(self,med:Medical_Op,*patient:Patients):\n",
        "    for i in patient:\n",
        "      self.appointment[i.name] = med.perform_op\n",
        "\n",
        "\n",
        "class Med_staff:\n",
        "  def __init__(self,name,position):\n",
        "    self.naem = name\n",
        "    self.position = position\n",
        "\n",
        "  def del_apointment(self,name,doc:Doctors):\n",
        "    del doc.appointment[name]\n",
        "\n",
        "p1 = Patients('Tiko',22,'Virahat')\n",
        "p2 = Patients('Samo',38,'Xoc')\n",
        "\n",
        "\n",
        "\n",
        "d = Doctors('Vardanyan','hamar')\n",
        "d.add_ppointmnets(surg,p1,p2)\n",
        "d.appointment\n",
        "\n",
        "st = Med_staff()\n",
        "sr.del_apointment('Tiko',d)"
      ],
      "metadata": {
        "id": "MOe2ZQ6hsJw_"
      },
      "execution_count": null,
      "outputs": []
    },
    {
      "cell_type": "code",
      "source": [
        "##7\n",
        "from abc import ABC,abstractmethod\n",
        "class Janr(ABC):\n",
        "  def __init__(self):\n",
        "    pass\n",
        "\n",
        "  @abstractmethod\n",
        "  def get_params(self):\n",
        "    pass\n",
        "\n",
        "class Romantic(Janr):\n",
        "  def __init__(self,tittle,rating):\n",
        "    self.title =tittle\n",
        "    self.janr = 'Romantic'\n",
        "    self.rating =rating\n",
        "\n",
        "\n",
        "  def get_params(self):\n",
        "    return f'name:{self.name}, rating:{self.rating}'\n",
        "\n",
        "\n",
        "class Fantasy(Janr):\n",
        "  def __init__(self,tittle,rating):\n",
        "    self.title = tittle\n",
        "    self.janr = 'Fantasy'\n",
        "    self.rating =rating\n",
        "\n",
        "  def get_params(self):\n",
        "    return f'name:{self.title}, rating:{self.rating}'\n",
        "\n",
        "class Movies:\n",
        "  def __init__(self,tittle,janr,rate):\n",
        "    self.rate = rate\n",
        "    self.tittle = tittle\n",
        "    self.janr = janr\n",
        "\n",
        "\n",
        "class Customers:\n",
        "  def __init__(self,name,contact):\n",
        "    self.name = name\n",
        "    self.contact = contact\n",
        "    self.movies = []\n",
        "    self.search = []\n",
        "\n",
        "  def add_films(self,movies:Movies):\n",
        "    self.movies.append(movies)\n",
        "\n",
        "  def search_films(self,*movies:Movies):\n",
        "    for i in movies:\n",
        "      if i in self.movies:\n",
        "        self.search.append(i)\n",
        "\n",
        "  def return_films(self):\n",
        "    return self.movies\n",
        "\n",
        "class Rentals:\n",
        "  def __init__(self,movie:Movies,rental_duration):\n",
        "    self.movie = movie\n",
        "    self.rental_duration = rental_duration\n",
        "    self.rental_history = []\n",
        "\n",
        "  def rent_films(self,customer:Customers):\n",
        "    if self.movie in customer.movies:\n",
        "      self.rental_history.append(self.movie.tittle)\n",
        "    else:\n",
        "      print('movie must be in customer movie')\n",
        "\n",
        "m1 = Movies('Titanic','Romantic',4.5)\n",
        "m2 = Movies('Sherlock','Detectiv',5.0)\n",
        "m3= Movies('harry','Detectiv',5.0)\n",
        "\n",
        "c = Customers('Tiko','hamar')\n",
        "\n",
        "c.add_films(m1)\n",
        "c.add_films(m2)\n",
        "\n",
        "c.search_films(m1)\n",
        "r = Rentals(m1,4)\n",
        "r.rent_films(c)\n",
        "\n",
        "[i.tittle for i in c.return_films()]"
      ],
      "metadata": {
        "id": "cy5HJBaoq1nY",
        "colab": {
          "base_uri": "https://localhost:8080/"
        },
        "outputId": "98c9616f-3107-43c6-ae15-7d9c29a9b748"
      },
      "execution_count": null,
      "outputs": [
        {
          "output_type": "execute_result",
          "data": {
            "text/plain": [
              "['Titanic', 'Sherlock']"
            ]
          },
          "metadata": {},
          "execution_count": 93
        }
      ]
    },
    {
      "cell_type": "code",
      "source": [
        "#8\n",
        "class Products(ABC):\n",
        "  def __init__(self,name,price,description):\n",
        "    super().__init__()\n",
        "    self.name = name\n",
        "    self.price = price\n",
        "    self.description = description\n",
        "    self.review = []\n",
        "\n",
        "  def add_review(self,rev):\n",
        "    self.review.append(rev)\n",
        "\n",
        "  def get_info(self):\n",
        "    return self.name,self.price,self.description\n",
        "\n",
        "  def return_review(self):\n",
        "    return self.review\n",
        "\n",
        "class Electronics(Products):\n",
        "  def __init__(self,name,price,description):\n",
        "    super().__init__(name,price,description)\n",
        "\n",
        "class Foods(Products):\n",
        "  def  __init__(self,name,price,description):\n",
        "    super().__init__(name,price,description)\n",
        "\n",
        "phone = Electronics('Phone',1000,'garanty')\n",
        "food = Foods('narinj',3400,'narnjaguyn')\n",
        "\n",
        "class Customers:\n",
        "  def __init__(self,name,contact_info):\n",
        "    self.name = name\n",
        "    self.contact_info = contact_info\n",
        "    self.products = []\n",
        "    self.search_history = []\n",
        "\n",
        "  def add_order(self,*product):\n",
        "    for i in product:\n",
        "      self.products.append(i)\n",
        "\n",
        "  def search_prod(self,*product):\n",
        "    for i in product:\n",
        "      if i in self.products:\n",
        "        self.search_history.append(i)\n",
        "\n",
        "phone.add_review('lavn e')\n",
        "c = Customers(\"Tiko\",'hamar')\n",
        "c.add_order(phone,food)\n",
        "c.search_prod(phone)\n",
        "c1 = Customers(\"Armna\",'hamar')\n",
        "print(c.products[0].return_review())\n",
        "#print(c.search_prod)\n",
        "c.search_history\n",
        "\n",
        "class Order:\n",
        "  def __init__(self,customer:Customers):\n",
        "    self.customer = customer\n",
        "    self.order_price = 0\n",
        "\n",
        "  def Order_price(self):\n",
        "    for i in self.customer.search_history:\n",
        "      self.order_price += i.price\n",
        "\n",
        "ord = Order(c)\n",
        "ord.Order_price()\n",
        "ord.order_price\n",
        "\n",
        "\n"
      ],
      "metadata": {
        "id": "P-R5WkjIEwlp",
        "colab": {
          "base_uri": "https://localhost:8080/"
        },
        "outputId": "59c2055a-8dab-46d4-8305-15e01072aaaa"
      },
      "execution_count": null,
      "outputs": [
        {
          "output_type": "stream",
          "name": "stdout",
          "text": [
            "['lavn e']\n"
          ]
        },
        {
          "output_type": "execute_result",
          "data": {
            "text/plain": [
              "1000"
            ]
          },
          "metadata": {},
          "execution_count": 163
        }
      ]
    },
    {
      "cell_type": "code",
      "source": [
        "import timeit\n",
        "\n",
        "class Point:\n",
        "  __slots__ = ('x','y')\n",
        "\n",
        "  def __init__(self,x,y):\n",
        "    self.x = x\n",
        "    self.y = y\n",
        "\n",
        "  def func(self):\n",
        "    return self.x -self.y\n",
        "\n",
        "\n",
        "class Point2D:\n",
        "  def __init__(self,x,y):\n",
        "    self.x = x\n",
        "    self.y = y\n",
        "\n",
        "  def func(self):\n",
        "    return self.x -self.y\n",
        "\n",
        "\n",
        "p1 = Point(12,3)\n",
        "p2 = Point2D(12,3)\n",
        "\n",
        "class Point3D(Point):\n",
        "  __slots__ = 'z',\n",
        "\n",
        "\n",
        "p3 = Point3D(24,83)\n",
        "p3.func()\n",
        "p3.z =45\n",
        "\n",
        "\n",
        "try:\n",
        "  x,y = map(int,input('enter number ').split())\n",
        "  res = x/y\n",
        "except ValueError as z:\n",
        "  print(z)\n",
        "except ArithmeticError as z:\n",
        "  print(z)\n",
        "\n",
        "finally:\n",
        "  print('forever works')\n",
        "\n"
      ],
      "metadata": {
        "colab": {
          "base_uri": "https://localhost:8080/"
        },
        "id": "L7MoCJzq5g6P",
        "outputId": "f3470437-2848-4601-9d4e-4ccb1eab517d"
      },
      "execution_count": null,
      "outputs": [
        {
          "output_type": "stream",
          "name": "stdout",
          "text": [
            "enter number 500\n",
            "not enough values to unpack (expected 2, got 1)\n",
            "forever works\n"
          ]
        }
      ]
    },
    {
      "cell_type": "code",
      "source": [
        "def check():\n",
        "  try:\n",
        "    x,y = map(int, input('enter number').split())\n",
        "    res = x/y\n",
        "  except ZeroDivisionError as z:\n",
        "    print(z)\n",
        "    return 0,0\n",
        "  except ValueError as z:\n",
        "    print(z)\n",
        "    return 0\n",
        "\n",
        "  finally:\n",
        "    print('program dont have exceptions')\n",
        "\n",
        "check()\n"
      ],
      "metadata": {
        "colab": {
          "base_uri": "https://localhost:8080/"
        },
        "id": "WAPENcI4TCjl",
        "outputId": "69dd7c05-fd49-4ff3-8e12-5170c520f053"
      },
      "execution_count": null,
      "outputs": [
        {
          "output_type": "stream",
          "name": "stdout",
          "text": [
            "enter number12 w\n",
            "invalid literal for int() with base 10: 'w'\n",
            "program dont have exceptions\n"
          ]
        },
        {
          "output_type": "execute_result",
          "data": {
            "text/plain": [
              "0"
            ]
          },
          "metadata": {},
          "execution_count": 108
        }
      ]
    }
  ]
}